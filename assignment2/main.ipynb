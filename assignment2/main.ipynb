{
 "cells": [
  {
   "cell_type": "code",
   "execution_count": 6,
   "id": "4a48499a-2ac9-4dd8-a52f-c7c8d6aa5ced",
   "metadata": {},
   "outputs": [],
   "source": [
    "import csv\n",
    "data = []\n",
    "with open(\"budget_data.csv\", \"r\") as csvfile:\n",
    "    reader = csv.reader(csvfile, delimiter=\",\")\n",
    "    next(reader)\n",
    "    for row in reader:\n",
    "        data.append([row[0], int(row[1])])"
   ]
  },
  {
   "cell_type": "code",
   "execution_count": 7,
   "id": "5afc2e27-790a-4ad9-a594-59cf45ea47cf",
   "metadata": {},
   "outputs": [
    {
     "name": "stdout",
     "output_type": "stream",
     "text": [
      "Total months: 86\n"
     ]
    }
   ],
   "source": [
    "number_of_months = len(data)\n",
    "print(\"Total months:\", number_of_months)"
   ]
  },
  {
   "cell_type": "code",
   "execution_count": 9,
   "id": "00427ac5-3a54-4ce9-978d-b704eb3738f6",
   "metadata": {},
   "outputs": [
    {
     "name": "stdout",
     "output_type": "stream",
     "text": [
      "net total amount 38382578\n"
     ]
    }
   ],
   "source": [
    "total = 0 \n",
    "for row in data:\n",
    "    total = total + int(row[1])\n",
    "print(\"net total amount\", total)\n"
   ]
  },
  {
   "cell_type": "code",
   "execution_count": 10,
   "id": "62abc04f-b688-4c58-ab5b-6390e2145024",
   "metadata": {},
   "outputs": [],
   "source": [
    "changes = {}\n",
    "for index in range(1,len(data)):\n",
    "    \n",
    "    date = data[index][0]\n",
    "    change = data[index][1]-data[index-1][1]\n",
    "    changes[date] = change"
   ]
  },
  {
   "cell_type": "code",
   "execution_count": 11,
   "id": "a7364207-c104-40e9-9151-d50ce75cf732",
   "metadata": {},
   "outputs": [
    {
     "data": {
      "text/plain": [
       "-2315.1176470588234"
      ]
     },
     "execution_count": 11,
     "metadata": {},
     "output_type": "execute_result"
    }
   ],
   "source": [
    "total_change = 0\n",
    "for date, change in changes.items():\n",
    "    total_change = total_change + change\n",
    "    \n",
    "average_change = total_change/len(changes)\n",
    "average_change"
   ]
  },
  {
   "cell_type": "code",
   "execution_count": 12,
   "id": "d629df19-de16-4792-87a0-2e5e368f60ba",
   "metadata": {},
   "outputs": [
    {
     "name": "stdout",
     "output_type": "stream",
     "text": [
      "Greatest increase in profits on  Feb-2012 value: 1926159\n"
     ]
    }
   ],
   "source": [
    "maximum_change = 0\n",
    "date_with_maximum_change = \"\"\n",
    "\n",
    "for date, change in changes.items():\n",
    "    if change>maximum_change:\n",
    "        maximum_change = change\n",
    "        date_with_maximum_change = date\n",
    "        \n",
    "print(\"Greatest increase in profits on \", date_with_maximum_change,\"value:\", maximum_change)"
   ]
  },
  {
   "cell_type": "code",
   "execution_count": 13,
   "id": "a52bde62-3536-4391-88be-67351ec40ddd",
   "metadata": {},
   "outputs": [
    {
     "name": "stdout",
     "output_type": "stream",
     "text": [
      "Greatest decrease in profits on  Sep-2013 value: -2196167\n"
     ]
    }
   ],
   "source": [
    "minimum_change = 0\n",
    "date_with_minimum_change = \"\"\n",
    "\n",
    "for date, change in changes.items():\n",
    "    if change<minimum_change:\n",
    "        minimum_change = change\n",
    "        date_with_minimum_change = date\n",
    "        \n",
    "print(\"Greatest decrease in profits on \", date_with_minimum_change,\"value:\", minimum_change)"
   ]
  },
  {
   "cell_type": "code",
   "execution_count": 15,
   "id": "63e22dae-01c6-41e0-89cf-56347e2f7210",
   "metadata": {},
   "outputs": [],
   "source": [
    "f = open(\"financial_analysis.txt\", \"w\")\n",
    "f.write(\"Financial Analysis\\n\")\n",
    "f.write(\"----------------------\\n\")\n",
    "f.write(f\"Total Months: {number_of_months}\\n\")\n",
    "f.write(f\"Total: ${total}\\n\")\n",
    "f.write(f\"Average Change: {average_change}\\n\")\n",
    "f.write(f\"Greatest Increase in Profits: {date_with_maximum_change} (${maximum_change})\\n\")\n",
    "f.write(f\"Greatest Decrease in Profits: {date_with_minimum_change} (${minimum_change})\\n\")\n",
    "f.close()"
   ]
  },
  {
   "cell_type": "code",
   "execution_count": null,
   "id": "28012652-caa3-4f10-9558-2b6737caa993",
   "metadata": {},
   "outputs": [],
   "source": []
  }
 ],
 "metadata": {
  "kernelspec": {
   "display_name": "Python 3 (ipykernel)",
   "language": "python",
   "name": "python3"
  },
  "language_info": {
   "codemirror_mode": {
    "name": "ipython",
    "version": 3
   },
   "file_extension": ".py",
   "mimetype": "text/x-python",
   "name": "python",
   "nbconvert_exporter": "python",
   "pygments_lexer": "ipython3",
   "version": "3.10.9"
  }
 },
 "nbformat": 4,
 "nbformat_minor": 5
}
